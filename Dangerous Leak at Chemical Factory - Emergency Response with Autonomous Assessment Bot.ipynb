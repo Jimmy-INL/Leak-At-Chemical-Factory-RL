{
 "cells": [
  {
   "cell_type": "markdown",
   "metadata": {},
   "source": [
    "<H1>Dangerous Leak at Chemical Factory - Emergency Response with Autonomous Assessment Bot</H1>\n",
    "\n",
    "\n"
   ]
  },
  {
   "cell_type": "markdown",
   "metadata": {},
   "source": [
    "\n",
    "Machine learning is assumed to be either supervised or unsupervised but a more recent approach is breaking the status-quo - reinforcement learning (RL). Supervised and unsupervised approaches require data to model, not reinforcement learning. RL is capable to explore space with a handful of instructions, analyze its surroundings one step at a time, and build its historical data as it learns.\n",
    "\n",
    "In this walk-through, we’ll use Q-learning to find the shortest path between two areas. It has the ability to embark on a journey with no knowledge of what to do next. This approach requires constant trial and error as it collects data about its surroundings and figures out how to accomplish its goal. This opens up interesting possibilities, what about recording additional information, like environmental details along the way that it may not fully understand until after it reaches its goal? And once reached, could it review that additional data to determine if any of it would have helped it reach its goal faster?\n",
    "\n",
    "Python code in this notebook based on Mic's great post: http://firsttimeprogrammer.blogspot.com/2016/09/getting-ai-smarter-with-q-learning.html"
   ]
  },
  {
   "cell_type": "markdown",
   "metadata": {},
   "source": [
    "**Q-learning**"
   ]
  },
  {
   "cell_type": "markdown",
   "metadata": {},
   "source": [
    "According to Wikipedia, \"Q-learning is a model-free reinforcement learning technique. Specifically, Q-learning can be used to find an optimal action-selection policy for any given (finite) Markov decision process (MDP).\" (https://en.wikipedia.org/wiki/Q-learning)"
   ]
  },
  {
   "cell_type": "markdown",
   "metadata": {},
   "source": [
    "**installing networkx on Python 3.x**"
   ]
  },
  {
   "cell_type": "code",
   "execution_count": 116,
   "metadata": {},
   "outputs": [],
   "source": [
    "# installing networkx on Python 3.x \n",
    "# download and unzip networkx at https://pypi.python.org/pypi/networkx/#downloads\n",
    "# cd\n",
    "# !python setup.py install"
   ]
  },
  {
   "cell_type": "markdown",
   "metadata": {},
   "source": [
    "<H2>Part 1: RL - Q-Learning Bot - Mapping Factory Floor for Dangerous Leak<BR></H2>\n",
    "<B>Goal:</B> Find shortest path to leak for evaluation and response team<BR><BR>\n",
    "    \n",
    "Let's create a factory floor using the network mapping library <a href='https://networkx.github.io/' target='_blank'>networkz</a>. This can easily be done by creating a list of points representing each direction our bot can take to go from one end of the map to the other. Using this format allows us to easily create complex graphs but also easily visualize everything with networkx graphs. <BR><BR>\n",
    "The map represents the chemical factory floor. The entrance is room is <b>0</b> and the room with the leak is <b>18</b>.<BR><BR>\n",
    "Our bot will use Q-Learning"
   ]
  },
  {
   "cell_type": "code",
   "execution_count": 1,
   "metadata": {},
   "outputs": [
    {
     "data": {
      "text/plain": [
       "<matplotlib.figure.Figure at 0x10b85c750>"
      ]
     },
     "metadata": {},
     "output_type": "display_data"
    }
   ],
   "source": [
    "# !pip install networkx\n",
    "import numpy as np\n",
    "import pylab as plt\n",
    "import networkx as nx\n",
    "import matplotlib.pyplot as plt\n",
    "\n",
    "# map cell to cell, add circular cell to goal point\n",
    "points_list = [(0,1),(1,2),(2,3),(2,4)]\n",
    "\n",
    " \n",
    "# goal point is where we have a leak\n",
    "fig, ax1 = plt.subplots(nrows=1, ncols=1, figsize=(4, 4))\n",
    "\n",
    "goal = 4\n",
    "G=nx.Graph()\n",
    "G.add_edges_from(points_list)\n",
    "pos = nx.spring_layout(G)\n",
    "nx.draw_networkx_nodes(G,pos)\n",
    "nx.draw_networkx_edges(G,pos)\n",
    "nx.draw_networkx_labels(G,pos)\n",
    "\n",
    "# highlight starting point\n",
    "nx.draw_networkx_nodes(G, pos,\n",
    "                       nodelist=[0],\n",
    "                       node_color='lightblue',\n",
    "                       node_size=500,\n",
    "                       alpha=0.8)\n",
    "\n",
    "# highlight end point\n",
    "nx.draw_networkx_nodes(G, pos,\n",
    "                       nodelist=[goal],\n",
    "                       node_color='yellow',\n",
    "                       node_size=500,\n",
    "                       alpha=0.8)\n",
    " \n",
    "plt.show()\n"
   ]
  },
  {
   "cell_type": "markdown",
   "metadata": {},
   "source": [
    "The map shows that point 0 is where our bot will start its search and point 18 is the leak, the goal point. The extra added points and false paths are obstacles the bot will have to contend with. \n",
    "<BR>\n",
    "We then create the rewards graph - this is the matrix version of our list of points map. We initialize the matrix to be the height and width of our points list (31 in this example) and initialize all values to -1. We then change the values to be 0 if it is a viable path and 100 if it is a goal path (for more on this topic, see Mnemosyne_studio’s great tutorial: <a href='http://mnemstudio.org/path-finding-q-learning-tutorial.htm' target='_blank'>Deep Q Learning for Video Games - The Math of Intelligence #9</a>)"
   ]
  },
  {
   "cell_type": "code",
   "execution_count": 2,
   "metadata": {},
   "outputs": [],
   "source": [
    "winning_path = [0,1,2,4]\n",
    "\n",
    "# how many points in graph? x points\n",
    "MATRIX_SIZE = len(points_list) + 1\n",
    "\n",
    "# create matrix x*y\n",
    "R = np.matrix(np.ones(shape=(MATRIX_SIZE, MATRIX_SIZE)))\n",
    "R *= -1\n",
    " "
   ]
  },
  {
   "cell_type": "code",
   "execution_count": 3,
   "metadata": {
    "scrolled": false
   },
   "outputs": [
    {
     "data": {
      "text/plain": [
       "matrix([[ -1.,   0.,  -1.,  -1.,  -1.],\n",
       "        [  0.,  -1.,   0.,  -1.,  -1.],\n",
       "        [ -1.,   0.,  -1.,   0., 100.],\n",
       "        [ -1.,  -1.,   0.,  -1.,  -1.],\n",
       "        [ -1.,  -1.,   0.,  -1., 100.]])"
      ]
     },
     "execution_count": 3,
     "metadata": {},
     "output_type": "execute_result"
    },
    {
     "data": {
      "image/png": "[encoded data removed]",
      "text/plain": [
       "<matplotlib.figure.Figure at 0x10f688650>"
      ]
     },
     "metadata": {},
     "output_type": "display_data"
    }
   ],
   "source": [
    "# assign zeros to paths and 100 to goal-reaching point\n",
    "for point in points_list:\n",
    "    if point[1] == goal:\n",
    "        R[point] = 100\n",
    "    else:\n",
    "        R[point] = 0\n",
    "\n",
    "    if point[0] == goal:\n",
    "        R[point[::-1]] = 100\n",
    "    else:\n",
    "        # reverse of point\n",
    "        R[point[::-1]]= 0\n",
    "\n",
    "# add goal point round trip\n",
    "R[goal,goal]= 100\n",
    "\n",
    " \n",
    "R.shape\n",
    "\n",
    "groupits = []\n",
    "for row in R:\n",
    "    groupit = '' \n",
    "    for val in row.tolist()[0]:\n",
    "        if val > 0:\n",
    "            groupit += str(round(val,2)) + ' '\n",
    "        else:\n",
    "            groupit += '  '\n",
    "    groupits.append(groupit)\n",
    "groupits\n",
    "\n",
    "\n",
    "import seaborn as sns; sns.set()\n",
    "ax = sns.heatmap(R, cmap=\"Greens\")\n",
    "\n",
    "R"
   ]
  },
  {
   "cell_type": "markdown",
   "metadata": {},
   "source": [
    "Build a function to test the current best path with the actual best path"
   ]
  },
  {
   "cell_type": "code",
   "execution_count": 4,
   "metadata": {},
   "outputs": [],
   "source": [
    "def test_best_path(Q, solution_path, goal):\n",
    "    current_state = 0\n",
    "    steps = [current_state]\n",
    "    while current_state != goal:\n",
    "        next_step_index = np.where(Q[current_state,] == np.max(Q[current_state,]))[1]\n",
    "        if next_step_index.shape[0] > 1:\n",
    "            next_step_index = int(np.random.choice(next_step_index, size = 1))\n",
    "        else:\n",
    "            next_step_index = int(next_step_index)\n",
    "        steps.append(next_step_index)\n",
    "        current_state = next_step_index\n",
    "    if steps == solution_path:\n",
    "        return steps, True\n",
    "    else:\n",
    "        return steps, False\n",
    "        "
   ]
  },
  {
   "cell_type": "markdown",
   "metadata": {},
   "source": [
    "The matrix is too big to show in this notebook but the y-axis is the state or where your bot is currently located, and the x-axis is your possible next actions. We then build our Q-learning matrix which will hold all the lessons learned from our bot. The Q-learning model uses a transitional rule formula and gamma is the learning parameter (see <a href='http://mnemstudio.org/path-finding-q-learning-tutorial.htm' target='_blank'>Deep Q Learning for Video Games - The Math of Intelligence #9</a> for more details). The rest of this example is mostly copied from Mic’s blog post <a href='http://firsttimeprogrammer.blogspot.com/2016/09/getting-ai-smarter-with-q-learning.html' target='_blank'>Getting AI smarter with Q-learning: a simple first step in Python</a>."
   ]
  },
  {
   "cell_type": "code",
   "execution_count": 5,
   "metadata": {},
   "outputs": [
    {
     "name": "stdout",
     "output_type": "stream",
     "text": [
      "Q[1, 0] = R[1, 0] + 0.800000 * 0.000000 = 0.000000\n"
     ]
    },
    {
     "data": {
      "text/plain": [
       "0"
      ]
     },
     "execution_count": 5,
     "metadata": {},
     "output_type": "execute_result"
    }
   ],
   "source": [
    "Q = np.matrix(np.zeros([MATRIX_SIZE,MATRIX_SIZE]))\n",
    "\n",
    "# rewards discout\n",
    "gamma = 0.8\n",
    "\n",
    "initial_state = 1\n",
    "\n",
    "def available_actions(state):\n",
    "    current_state_row = R[state,]\n",
    "    av_act = np.where(current_state_row >= 0)[1]\n",
    "    return av_act\n",
    "\n",
    "available_act = available_actions(initial_state) \n",
    "\n",
    "def sample_next_action(available_actions_range):\n",
    "    next_action = int(np.random.choice(available_act,1))\n",
    "    return next_action\n",
    "\n",
    "action = sample_next_action(available_act)\n",
    "\n",
    "def update(current_state, action, gamma):\n",
    "    \n",
    "    max_index = np.where(Q[action,] == np.max(Q[action,]))[1]\n",
    "\n",
    "    if max_index.shape[0] > 1:\n",
    "          max_index = int(np.random.choice(max_index, size = 1))\n",
    "    else:\n",
    "          max_index = int(max_index)\n",
    "    max_value = Q[action, max_index]\n",
    "\n",
    "    Q[current_state, action] = R[current_state, action] + gamma * max_value\n",
    "    print(\"Q[%i, %i] = R[%i, %i] + %f * %f = %f\"  % (current_state, action, current_state, action, gamma, max_value, R[current_state, action] + gamma * max_value))\n",
    "\n",
    "    if (np.max(Q) > 0):\n",
    "        return(np.sum(Q/np.max(Q)*100))\n",
    "    else:\n",
    "        return (0)\n",
    "    \n",
    "update(initial_state, action, gamma)"
   ]
  },
  {
   "cell_type": "markdown",
   "metadata": {},
   "source": [
    "# We keep following Mic’s blog and run the training and testing functions that will run the update function 1000 times allowing the Q-learning model to figure out the most efficient path:"
   ]
  },
  {
   "cell_type": "code",
   "execution_count": 28,
   "metadata": {},
   "outputs": [
    {
     "name": "stdout",
     "output_type": "stream",
     "text": [
      "0\n",
      "Q[3, 2] = R[3, 2] + 0.800000 * 0.000000 = 0.000000\n",
      "Q[0, 1] = R[0, 1] + 0.800000 * 0.000000 = 0.000000\n",
      "Q[2, 3] = R[2, 3] + 0.800000 * 0.000000 = 0.000000\n",
      "Q[3, 2] = R[3, 2] + 0.800000 * 0.000000 = 0.000000\n",
      "Q[3, 2] = R[3, 2] + 0.800000 * 0.000000 = 0.000000\n",
      "Q[2, 1] = R[2, 1] + 0.800000 * 0.000000 = 0.000000\n",
      "Q[0, 1] = R[0, 1] + 0.800000 * 0.000000 = 0.000000\n",
      "Q[1, 0] = R[1, 0] + 0.800000 * 0.000000 = 0.000000\n",
      "Q[1, 0] = R[1, 0] + 0.800000 * 0.000000 = 0.000000\n",
      "Q[4, 4] = R[4, 4] + 0.800000 * 0.000000 = 100.000000\n",
      "Q[4, 2] = R[4, 2] + 0.800000 * 0.000000 = 0.000000\n",
      "Q[3, 2] = R[3, 2] + 0.800000 * 0.000000 = 0.000000\n",
      "Q[2, 1] = R[2, 1] + 0.800000 * 0.000000 = 0.000000\n",
      "Q[1, 0] = R[1, 0] + 0.800000 * 0.000000 = 0.000000\n",
      "Q[2, 4] = R[2, 4] + 0.800000 * 100.000000 = 180.000000\n",
      "Q[3, 2] = R[3, 2] + 0.800000 * 180.000000 = 144.000000\n",
      "Q[2, 1] = R[2, 1] + 0.800000 * 0.000000 = 0.000000\n",
      "Q[3, 2] = R[3, 2] + 0.800000 * 180.000000 = 144.000000\n",
      "Q[3, 2] = R[3, 2] + 0.800000 * 180.000000 = 144.000000\n",
      "Q[0, 1] = R[0, 1] + 0.800000 * 0.000000 = 0.000000\n",
      "Q[0, 1] = R[0, 1] + 0.800000 * 0.000000 = 0.000000\n",
      "Q[4, 4] = R[4, 4] + 0.800000 * 100.000000 = 180.000000\n",
      "Q[3, 2] = R[3, 2] + 0.800000 * 180.000000 = 144.000000\n",
      "Q[4, 2] = R[4, 2] + 0.800000 * 180.000000 = 144.000000\n",
      "Q[0, 1] = R[0, 1] + 0.800000 * 0.000000 = 0.000000\n",
      "Q[1, 0] = R[1, 0] + 0.800000 * 0.000000 = 0.000000\n",
      "Q[3, 2] = R[3, 2] + 0.800000 * 180.000000 = 144.000000\n",
      "Q[1, 0] = R[1, 0] + 0.800000 * 0.000000 = 0.000000\n",
      "Q[0, 1] = R[0, 1] + 0.800000 * 0.000000 = 0.000000\n",
      "Q[0, 1] = R[0, 1] + 0.800000 * 0.000000 = 0.000000\n",
      "Q[2, 4] = R[2, 4] + 0.800000 * 180.000000 = 244.000000\n",
      "Q[3, 2] = R[3, 2] + 0.800000 * 244.000000 = 195.200000\n",
      "Q[0, 1] = R[0, 1] + 0.800000 * 0.000000 = 0.000000\n",
      "Q[2, 4] = R[2, 4] + 0.800000 * 180.000000 = 244.000000\n",
      "Q[4, 4] = R[4, 4] + 0.800000 * 180.000000 = 244.000000\n",
      "Q[3, 2] = R[3, 2] + 0.800000 * 244.000000 = 195.200000\n",
      "Q[1, 2] = R[1, 2] + 0.800000 * 244.000000 = 195.200000\n",
      "Q[4, 4] = R[4, 4] + 0.800000 * 244.000000 = 295.200000\n",
      "Q[3, 2] = R[3, 2] + 0.800000 * 244.000000 = 195.200000\n",
      "(38, True)\n",
      "Q[1, 2] = R[1, 2] + 0.800000 * 244.000000 = 195.200000\n",
      "Q[2, 4] = R[2, 4] + 0.800000 * 295.200000 = 336.160000\n",
      "Q[3, 2] = R[3, 2] + 0.800000 * 336.160000 = 268.928000\n",
      "(41, True)\n",
      "Q[2, 3] = R[2, 3] + 0.800000 * 268.928000 = 215.142400\n",
      "(42, True)\n",
      "Q[4, 2] = R[4, 2] + 0.800000 * 336.160000 = 268.928000\n",
      "Q[0, 1] = R[0, 1] + 0.800000 * 195.200000 = 156.160000\n",
      "(44, True)\n",
      "Q[1, 2] = R[1, 2] + 0.800000 * 336.160000 = 268.928000\n",
      "(45, True)\n",
      "Q[0, 1] = R[0, 1] + 0.800000 * 268.928000 = 215.142400\n",
      "(46, True)\n",
      "Q[4, 2] = R[4, 2] + 0.800000 * 336.160000 = 268.928000\n",
      "(47, True)\n",
      "Q[3, 2] = R[3, 2] + 0.800000 * 336.160000 = 268.928000\n",
      "(48, True)\n",
      "Q[2, 3] = R[2, 3] + 0.800000 * 268.928000 = 215.142400\n",
      "(49, True)\n",
      "Q[0, 1] = R[0, 1] + 0.800000 * 268.928000 = 215.142400\n",
      "(50, True)\n",
      "Q[0, 1] = R[0, 1] + 0.800000 * 268.928000 = 215.142400\n",
      "(51, True)\n",
      "Found most efficient path:\n",
      "[0, 1, 2, 4]\n"
     ]
    },
    {
     "data": {
      "image/png": "[encoded data removed]",
      "text/plain": [
       "<matplotlib.figure.Figure at 0x10ed14650>"
      ]
     },
     "metadata": {},
     "output_type": "display_data"
    },
    {
     "data": {
      "text/plain": [
       "matrix([[  0.    , 215.1424,   0.    ,   0.    ,   0.    ],\n",
       "        [  0.    ,   0.    , 268.928 ,   0.    ,   0.    ],\n",
       "        [  0.    ,   0.    ,   0.    , 215.1424, 336.16  ],\n",
       "        [  0.    ,   0.    , 268.928 ,   0.    ,   0.    ],\n",
       "        [  0.    ,   0.    , 268.928 ,   0.    , 295.2   ]])"
      ]
     },
     "execution_count": 28,
     "metadata": {},
     "output_type": "execute_result"
    }
   ],
   "source": [
    "# Training\n",
    "scores = []\n",
    "wins_found = 0\n",
    "for i in range(200):\n",
    "    if (i%100==0): print(i)\n",
    "    current_state = np.random.randint(0, int(Q.shape[0]))\n",
    "    available_act = available_actions(current_state)\n",
    "    action = sample_next_action(available_act)\n",
    "    score = update(current_state,action,gamma)\n",
    "    steps, win = test_best_path(Q, winning_path, goal)\n",
    "    if (win):\n",
    "        wins_found += 1\n",
    "        print(i, win)\n",
    "        if wins_found > 10:\n",
    "            break;\n",
    "    scores.append(score)\n",
    "\n",
    "# Testing\n",
    "current_state = 0\n",
    "steps = [current_state]\n",
    "\n",
    "# Testing\n",
    "steps, win = test_best_path(Q, winning_path, goal)\n",
    "if win:\n",
    "    print('Found most efficient path:')\n",
    "else:\n",
    "    print(\"Could not find most efficient path:\")\n",
    "print(steps)\n",
    "\n",
    "plt.plot(scores)\n",
    "plt.plot(scores)\n",
    "plt.suptitle('QL-Learning Search Scoring with Early Stop\\nStop Once Ideal Path Confirmed')\n",
    "plt.xlabel('Iterations')\n",
    "plt.ylabel('Reward Score')\n",
    "plt.show()\n",
    "\n",
    "Q"
   ]
  },
  {
   "cell_type": "code",
   "execution_count": 25,
   "metadata": {},
   "outputs": [
    {
     "data": {
      "image/png": "[encoded data removed]",
      "text/plain": [
       "<matplotlib.figure.Figure at 0x10ee87450>"
      ]
     },
     "metadata": {},
     "output_type": "display_data"
    }
   ],
   "source": [
    "groupits = []\n",
    "for row in Q:\n",
    "    groupit = '' \n",
    "    for val in row.tolist()[0]:\n",
    "        if val > 0:\n",
    "            groupit += str(round(val,2)) + ' '\n",
    "        else:\n",
    "            groupit += '  '\n",
    "    groupits.append(groupit)\n",
    "groupits\n",
    "\n",
    "\n",
    "import numpy as np; np.random.seed(0)\n",
    "import seaborn as sns; sns.set()\n",
    "ax = sns.heatmap(Q, cmap=\"Greens\")\n",
    "                     \n",
    "                     "
   ]
  },
  {
   "cell_type": "code",
   "execution_count": 26,
   "metadata": {},
   "outputs": [
    {
     "name": "stdout",
     "output_type": "stream",
     "text": [
      "(0, 1)\n",
      "64.0\n",
      "(1, 2)\n",
      "80.0\n",
      "(2, 4)\n",
      "164.0\n"
     ]
    }
   ],
   "source": [
    " \n",
    "for point in points_list:\n",
    "\n",
    "    if (point[1] in winning_path):\n",
    "        print(point)\n",
    "        print(Q.tolist()[point[0]][point[1]])\n"
   ]
  },
  {
   "cell_type": "markdown",
   "metadata": {},
   "source": [
    "So, as we would have guessed, it found the correct path to go from the entrance to the leak:\n",
    "[0,1,10,19,28,37,38,39,48,49,50]"
   ]
  },
  {
   "cell_type": "markdown",
   "metadata": {},
   "source": [
    "We see that the model did correctly find the most efficient path from the starting node 0 to the goal node 18 and took around 600 iterations to converge to a solution. \n"
   ]
  },
  {
   "cell_type": "markdown",
   "metadata": {},
   "source": [
    "<H2>Part 2: Analysis of Environmental Data</H2>\n",
    "<B>Goal:</B> Model historic data and find correlations to emergency\n",
    "\n",
    "Now, imagine that our bot was recording environmental data as it was scurrying through each rooms building its internal maps. For example, what if it recorded the temperature of each room on its journey. \n",
    "\n",
    "<TABLE>\n",
    "    <TR><TD>6, 12, 14, 19, 24, 26, 22)</TD><TD>1 degree higher</TD></TR>\n",
    "    <TR><TD>11,16,21</TD><TD>2 degrees higher</TD></TR>\n",
    "    <TR><TD>17</TD><TD>5 degress higher</TD></TR>\n",
    "    <TR><TD>18</TD><TD>10 degress higher</TD></TR>\n",
    "</TABLE>\n",
    "\n",
    "For example, using linear regression, we model the distance to leak from start using environment data and discover relationship between leak and temperature reading, the higher the reading get, the closer to the leak. The <b>blue</b> color represents a 2 degree higher temperature and the <b>red</b>, 4 degrees higher."
   ]
  },
  {
   "cell_type": "code",
   "execution_count": 245,
   "metadata": {},
   "outputs": [
    {
     "data": {
      "image/png": "[encoded data removed]",
      "text/plain": [
       "<matplotlib.figure.Figure at 0x112284a90>"
      ]
     },
     "metadata": {},
     "output_type": "display_data"
    }
   ],
   "source": [
    "\n",
    "G=nx.Graph()\n",
    "fig, ax1 = plt.subplots(nrows=1, ncols=1, figsize=(12, 8))\n",
    "\n",
    "G.add_edges_from(point_list)\n",
    "pos = nx.spring_layout(G)\n",
    "nx.draw_networkx_nodes(G,pos)\n",
    "nx.draw_networkx_edges(G,pos)\n",
    "nx.draw_networkx_labels(G,pos)\n",
    "\n",
    "# highlight starting point\n",
    "nx.draw_networkx_nodes(G, pos,\n",
    "                       nodelist=[0],\n",
    "                       node_color='lightblue',\n",
    "                       node_size=500,\n",
    "                       alpha=0.8)\n",
    "\n",
    "# highlight end point\n",
    "nx.draw_networkx_nodes(G, pos,\n",
    "                       nodelist=[50],\n",
    "                       node_color='red',\n",
    "                       node_size=700,\n",
    "                       alpha=0.8)\n",
    "\n",
    "\n",
    "# highlight end point\n",
    "nx.draw_networkx_nodes(G, pos,\n",
    "                       nodelist=[51,49],\n",
    "                       node_color='yellow',\n",
    "                       node_size=700,\n",
    "                       alpha=0.8)\n",
    "\n",
    "# highlight end point\n",
    "nx.draw_networkx_nodes(G, pos,\n",
    "                       nodelist=[39, 48, 53, 52, 57],\n",
    "                       node_color='lightblue',\n",
    "                       node_size=600,\n",
    "                       alpha=0.8)\n",
    "\n",
    "\n",
    "\n",
    "# tepid\n",
    "nx.draw_networkx_edges(G, pos,\n",
    "                       edgelist=[(39,48),(48,53),(52,57),],\n",
    "                       width=8, alpha=0.5, edge_color='lightblue')\n",
    "\n",
    "# warm \n",
    "nx.draw_networkx_edges(G, pos,\n",
    "                       edgelist=[(48,49),(51,52)],\n",
    "                       width=8, alpha=0.5, edge_color='yellow')\n",
    "\n",
    "# hot\n",
    "nx.draw_networkx_edges(G, pos,\n",
    "                       edgelist=[(49,50),(50,51)],\n",
    "                       width=8, alpha=0.5, edge_color='red')\n",
    "\n",
    "plt.show()"
   ]
  },
  {
   "cell_type": "markdown",
   "metadata": {},
   "source": [
    "Let's create a temperature difference list and add the temperature differential at each point. We set all points to <b>0</b>, some to <b>+2</b> and the point leading the goal to <b>+5</b> and the goal to <b>+10</b> degrees. And the way we are going to suggest to the Q-Learning model to favorize paths with a rising temperature is to drop a certain amount of 'next actions' that are decreasing in temperature (not all as we want to handle certain noisy situations). "
   ]
  },
  {
   "cell_type": "code",
   "execution_count": 447,
   "metadata": {},
   "outputs": [],
   "source": [
    "# let's add our temparature readings\n",
    "temperature_differential_readings = [0] * 31\n",
    "temperature_differential_readings[6] = 1\n",
    "temperature_differential_readings[12] = 1\n",
    "temperature_differential_readings[14] = 1\n",
    "temperature_differential_readings[19] = 1\n",
    "temperature_differential_readings[24] = 1\n",
    "temperature_differential_readings[26] = 1\n",
    "temperature_differential_readings[22] = 1\n",
    "temperature_differential_readings[11] = 2\n",
    "temperature_differential_readings[16] = 2\n",
    "temperature_differential_readings[21] = 2\n",
    "temperature_differential_readings[17] = 5\n",
    "temperature_differential_readings[18] = 10"
   ]
  },
  {
   "cell_type": "markdown",
   "metadata": {},
   "source": [
    "<H2>Part 3: Factory with Dangerous Leak - Using Enhanced Q-Learning with Case-based reasoning (CBR)</H2>\n",
    "<B>Goal:</B> Find shortest path to leak for evaluation and response team\n",
    "\n",
    "\n",
    "**Case-based reasoning (CBR)**\n",
    "\n",
    "\"Case-based reasoning (CBR), broadly construed, is the process of solving new problems based on the solutions of similar past problems.\" (https://en.wikipedia.org/wiki/Case-based_reasoning)\n",
    "\n",
    "We create the same factory map with the same story, suffering from same chemical leak (where temperature relationship applies). We fire off the bot using an enhanced Q-Learning algorithm with CBR, to attempt to favorize steps with increasing temperatures versus steps with decreasing ones or non-changing ones. "
   ]
  },
  {
   "cell_type": "code",
   "execution_count": 450,
   "metadata": {},
   "outputs": [
    {
     "data": {
      "text/plain": [
       "0"
      ]
     },
     "execution_count": 450,
     "metadata": {},
     "output_type": "execute_result"
    }
   ],
   "source": [
    "# re-initialize the matrices for new run\n",
    "Q = np.matrix(np.zeros([MATRIX_SIZE,MATRIX_SIZE]))\n",
    "\n",
    "# learning parameter\n",
    "gamma = 0.8\n",
    "\n",
    "\n",
    "\n",
    "initial_state = 1\n",
    "\n",
    "def available_actions(state):\n",
    "    current_state_row = R[state,]\n",
    "    av_act = np.where(current_state_row >= 0)[1]\n",
    "    return av_act\n",
    "\n",
    "available_act = available_actions(initial_state) \n",
    "\n",
    "# we add past action to know where we're coming from\n",
    "def sample_next_action(available_actions_range, past_action):\n",
    "    # see if we can go up in temperature\n",
    "    found_rising_temp_path = False\n",
    "    for act in available_act:\n",
    "        if temperature_differential_readings[past_action] < temperature_differential_readings[int(act)]:\n",
    "            next_action = int(act)\n",
    "            found_rising_temp_path = True\n",
    "            break;\n",
    "    \n",
    "    if found_rising_temp_path == False:\n",
    "        next_action = int(np.random.choice(available_act,1))\n",
    "   \n",
    "    return next_action\n",
    "\n",
    "action = sample_next_action(available_act, 0)\n",
    "\n",
    "def update(current_state, action, gamma):\n",
    "    \n",
    "  max_index = np.where(Q[action,] == np.max(Q[action,]))[1]\n",
    "  \n",
    "  if max_index.shape[0] > 1:\n",
    "      max_index = int(np.random.choice(max_index, size = 1))\n",
    "  else:\n",
    "      max_index = int(max_index)\n",
    "  max_value = Q[action, max_index]\n",
    "  \n",
    "  Q[current_state, action] = R[current_state, action] + gamma * max_value\n",
    "  # print('max_value', R[current_state, action] + gamma * max_value)\n",
    "  \n",
    "  if (np.max(Q) > 0):\n",
    "    return(np.sum(Q/np.max(Q)*100))\n",
    "  else:\n",
    "    return (0)\n",
    "    \n",
    "update(initial_state, action, gamma)"
   ]
  },
  {
   "cell_type": "code",
   "execution_count": 451,
   "metadata": {},
   "outputs": [
    {
     "name": "stdout",
     "output_type": "stream",
     "text": [
      "383 True\n",
      "384 True\n",
      "385 True\n",
      "386 True\n",
      "387 True\n",
      "388 True\n",
      "Found most efficient path:\n",
      "[0, 1, 6, 11, 16, 17, 18]\n"
     ]
    },
    {
     "data": {
      "image/png": "[encoded data removed]",
      "text/plain": [
       "<matplotlib.figure.Figure at 0x10d42f3c8>"
      ]
     },
     "metadata": {},
     "output_type": "display_data"
    }
   ],
   "source": [
    "# re-initialize the matrices for new run\n",
    "Q = np.matrix(np.zeros([MATRIX_SIZE,MATRIX_SIZE]))\n",
    "\n",
    "\n",
    "scores = []\n",
    "wins_found = 0\n",
    "for i in range(1000):\n",
    "    current_state = np.random.randint(0, int(Q.shape[0]))\n",
    "    available_act = available_actions(current_state)\n",
    "    action = sample_next_action(available_act, action)\n",
    "    score = update(current_state,action,gamma)\n",
    "    steps, win = test_best_path(Q, [0, 1, 6, 11, 16, 17, 18])\n",
    "    if (win):\n",
    "        wins_found += 1\n",
    "        print(i, win)\n",
    "        if wins_found > 5:\n",
    "            break;\n",
    "    scores.append(score)\n",
    "    \n",
    "# Testing\n",
    "steps, win = test_best_path(Q, [0, 1, 6, 11, 16, 17, 18])\n",
    "if win:\n",
    "    print('Found most efficient path:')\n",
    "else:\n",
    "    print(\"Could not find most efficient path:\")\n",
    "\n",
    "print(steps)\n",
    "\n",
    "plt.plot(scores)\n",
    "plt.suptitle('CBR & QL Search Scoring with Early Stop\\nStop Once Ideal Path Confirmed')\n",
    "plt.xlabel('Iterations')\n",
    "plt.ylabel('Reward Score')\n",
    "plt.show()"
   ]
  },
  {
   "cell_type": "markdown",
   "metadata": {},
   "source": [
    "You may need to run both examples a couple of times in order to see patterns emerge. Overall, it only takes our CBR enhanced model a half to two-thirds the time to reach the leak than the original approach. This is a toy problem but the ramifications of using RL to map areas along with the ability of recording additional data of which the immediate use may not be apparent opens up interesting possibilites. This is a bit like unsupervised learning where we don't quite know what we are going to learn but at times can be very profitable. "
   ]
  },
  {
   "cell_type": "code",
   "execution_count": null,
   "metadata": {},
   "outputs": [],
   "source": []
  },
  {
   "cell_type": "code",
   "execution_count": null,
   "metadata": {},
   "outputs": [],
   "source": []
  }
 ],
 "metadata": {
  "kernelspec": {
   "display_name": "Python 3",
   "language": "python",
   "name": "python3"
  },
  "language_info": {
   "codemirror_mode": {
    "name": "ipython",
    "version": 3
   },
   "file_extension": ".py",
   "mimetype": "text/x-python",
   "name": "python",
   "nbconvert_exporter": "python",
   "pygments_lexer": "ipython3",
   "version": "3.6.5"
  }
 },
 "nbformat": 4,
 "nbformat_minor": 2
}
